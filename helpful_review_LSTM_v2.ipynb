{
  "nbformat": 4,
  "nbformat_minor": 0,
  "metadata": {
    "colab": {
      "name": "helpful_review_LSTM_v2.ipynb",
      "provenance": [],
      "collapsed_sections": []
    },
    "kernelspec": {
      "name": "python3",
      "display_name": "Python 3"
    },
    "language_info": {
      "name": "python"
    },
    "accelerator": "GPU"
  },
  "cells": [
    {
      "cell_type": "code",
      "execution_count": null,
      "metadata": {
        "colab": {
          "base_uri": "https://localhost:8080/"
        },
        "id": "7qR3CZEpBsam",
        "outputId": "375fa037-3a32-4575-986f-22db28a53e43"
      },
      "outputs": [
        {
          "output_type": "stream",
          "name": "stdout",
          "text": [
            "Drive already mounted at /content/drive; to attempt to forcibly remount, call drive.mount(\"/content/drive\", force_remount=True).\n"
          ]
        }
      ],
      "source": [
        "from google.colab import drive\n",
        "drive.mount(\"/content/drive\")"
      ]
    },
    {
      "cell_type": "code",
      "source": [
        "from keras.preprocessing.sequence import pad_sequences\n",
        "from keras.layers import Input, Dense, LSTM, Embedding\n",
        "from keras.layers import Dropout, Activation, Bidirectional, GlobalMaxPool1D\n",
        "from keras.models import Sequential\n",
        "from keras import initializers, regularizers, constraints, optimizers, layers\n",
        "from keras import callbacks\n",
        "from keras.preprocessing import text, sequence\n",
        "import tensorflow as tf"
      ],
      "metadata": {
        "id": "1DRrhyspB05c"
      },
      "execution_count": null,
      "outputs": []
    },
    {
      "cell_type": "code",
      "source": [
        "import pandas as pd\n",
        "import numpy as np\n",
        "import seaborn as sns\n",
        "import matplotlib.pyplot as plt\n",
        "from sklearn import model_selection"
      ],
      "metadata": {
        "id": "Nj6pajz-CA_9"
      },
      "execution_count": null,
      "outputs": []
    },
    {
      "cell_type": "code",
      "source": [
        "#load data\n",
        "data1=pd.read_csv(\"/content/drive/My Drive/GEARS2022/code/problem_data_multisemester_balanced.csv\")\n",
        "data2=pd.read_csv(\"/content/drive/My Drive/GEARS2022/code/suggestion_data_multisemester_balanced.csv\")"
      ],
      "metadata": {
        "id": "xqRVTHrYCBT3"
      },
      "execution_count": null,
      "outputs": []
    },
    {
      "cell_type": "code",
      "source": [
        "data1=data1.rename(columns={'TAG':'problem'})\n",
        "data2=data2.rename(columns={'TAG':'suggestion'})\n",
        "result = pd.merge(data1, data2, how='inner',on='REVIEW')\n",
        "result['TAG'] = result['problem'] + result['suggestion']\n",
        "result['TAG'].loc[ result['TAG'] > 0] = 1\n",
        "data=result.drop(columns=['problem', 'suggestion'])\n",
        "data.head()"
      ],
      "metadata": {
        "colab": {
          "base_uri": "https://localhost:8080/",
          "height": 293
        },
        "id": "unG4A3xZCHFg",
        "outputId": "1140ee7a-f8c3-4878-90c1-aaf66545aca0"
      },
      "execution_count": null,
      "outputs": [
        {
          "output_type": "stream",
          "name": "stderr",
          "text": [
            "/usr/local/lib/python3.7/dist-packages/pandas/core/indexing.py:1732: SettingWithCopyWarning: \n",
            "A value is trying to be set on a copy of a slice from a DataFrame\n",
            "\n",
            "See the caveats in the documentation: https://pandas.pydata.org/pandas-docs/stable/user_guide/indexing.html#returning-a-view-versus-a-copy\n",
            "  self._setitem_single_block(indexer, value, name)\n"
          ]
        },
        {
          "output_type": "execute_result",
          "data": {
            "text/html": [
              "\n",
              "  <div id=\"df-6326087c-318a-4d2c-afb1-54d342c7e458\">\n",
              "    <div class=\"colab-df-container\">\n",
              "      <div>\n",
              "<style scoped>\n",
              "    .dataframe tbody tr th:only-of-type {\n",
              "        vertical-align: middle;\n",
              "    }\n",
              "\n",
              "    .dataframe tbody tr th {\n",
              "        vertical-align: top;\n",
              "    }\n",
              "\n",
              "    .dataframe thead th {\n",
              "        text-align: right;\n",
              "    }\n",
              "</style>\n",
              "<table border=\"1\" class=\"dataframe\">\n",
              "  <thead>\n",
              "    <tr style=\"text-align: right;\">\n",
              "      <th></th>\n",
              "      <th>REVIEW</th>\n",
              "      <th>TAG</th>\n",
              "    </tr>\n",
              "  </thead>\n",
              "  <tbody>\n",
              "    <tr>\n",
              "      <th>0</th>\n",
              "      <td>The test plan covers possible test cases and a...</td>\n",
              "      <td>0</td>\n",
              "    </tr>\n",
              "    <tr>\n",
              "      <th>1</th>\n",
              "      <td>Multiple diagrams visualizing and explaining t...</td>\n",
              "      <td>0</td>\n",
              "    </tr>\n",
              "    <tr>\n",
              "      <th>2</th>\n",
              "      <td>The design is well thought of. They propose 2 ...</td>\n",
              "      <td>0</td>\n",
              "    </tr>\n",
              "    <tr>\n",
              "      <th>3</th>\n",
              "      <td>The team has added details about UI testing. \\...</td>\n",
              "      <td>1</td>\n",
              "    </tr>\n",
              "    <tr>\n",
              "      <th>4</th>\n",
              "      <td>The team has provided a usecase diagram which ...</td>\n",
              "      <td>1</td>\n",
              "    </tr>\n",
              "  </tbody>\n",
              "</table>\n",
              "</div>\n",
              "      <button class=\"colab-df-convert\" onclick=\"convertToInteractive('df-6326087c-318a-4d2c-afb1-54d342c7e458')\"\n",
              "              title=\"Convert this dataframe to an interactive table.\"\n",
              "              style=\"display:none;\">\n",
              "        \n",
              "  <svg xmlns=\"http://www.w3.org/2000/svg\" height=\"24px\"viewBox=\"0 0 24 24\"\n",
              "       width=\"24px\">\n",
              "    <path d=\"M0 0h24v24H0V0z\" fill=\"none\"/>\n",
              "    <path d=\"M18.56 5.44l.94 2.06.94-2.06 2.06-.94-2.06-.94-.94-2.06-.94 2.06-2.06.94zm-11 1L8.5 8.5l.94-2.06 2.06-.94-2.06-.94L8.5 2.5l-.94 2.06-2.06.94zm10 10l.94 2.06.94-2.06 2.06-.94-2.06-.94-.94-2.06-.94 2.06-2.06.94z\"/><path d=\"M17.41 7.96l-1.37-1.37c-.4-.4-.92-.59-1.43-.59-.52 0-1.04.2-1.43.59L10.3 9.45l-7.72 7.72c-.78.78-.78 2.05 0 2.83L4 21.41c.39.39.9.59 1.41.59.51 0 1.02-.2 1.41-.59l7.78-7.78 2.81-2.81c.8-.78.8-2.07 0-2.86zM5.41 20L4 18.59l7.72-7.72 1.47 1.35L5.41 20z\"/>\n",
              "  </svg>\n",
              "      </button>\n",
              "      \n",
              "  <style>\n",
              "    .colab-df-container {\n",
              "      display:flex;\n",
              "      flex-wrap:wrap;\n",
              "      gap: 12px;\n",
              "    }\n",
              "\n",
              "    .colab-df-convert {\n",
              "      background-color: #E8F0FE;\n",
              "      border: none;\n",
              "      border-radius: 50%;\n",
              "      cursor: pointer;\n",
              "      display: none;\n",
              "      fill: #1967D2;\n",
              "      height: 32px;\n",
              "      padding: 0 0 0 0;\n",
              "      width: 32px;\n",
              "    }\n",
              "\n",
              "    .colab-df-convert:hover {\n",
              "      background-color: #E2EBFA;\n",
              "      box-shadow: 0px 1px 2px rgba(60, 64, 67, 0.3), 0px 1px 3px 1px rgba(60, 64, 67, 0.15);\n",
              "      fill: #174EA6;\n",
              "    }\n",
              "\n",
              "    [theme=dark] .colab-df-convert {\n",
              "      background-color: #3B4455;\n",
              "      fill: #D2E3FC;\n",
              "    }\n",
              "\n",
              "    [theme=dark] .colab-df-convert:hover {\n",
              "      background-color: #434B5C;\n",
              "      box-shadow: 0px 1px 3px 1px rgba(0, 0, 0, 0.15);\n",
              "      filter: drop-shadow(0px 1px 2px rgba(0, 0, 0, 0.3));\n",
              "      fill: #FFFFFF;\n",
              "    }\n",
              "  </style>\n",
              "\n",
              "      <script>\n",
              "        const buttonEl =\n",
              "          document.querySelector('#df-6326087c-318a-4d2c-afb1-54d342c7e458 button.colab-df-convert');\n",
              "        buttonEl.style.display =\n",
              "          google.colab.kernel.accessAllowed ? 'block' : 'none';\n",
              "\n",
              "        async function convertToInteractive(key) {\n",
              "          const element = document.querySelector('#df-6326087c-318a-4d2c-afb1-54d342c7e458');\n",
              "          const dataTable =\n",
              "            await google.colab.kernel.invokeFunction('convertToInteractive',\n",
              "                                                     [key], {});\n",
              "          if (!dataTable) return;\n",
              "\n",
              "          const docLinkHtml = 'Like what you see? Visit the ' +\n",
              "            '<a target=\"_blank\" href=https://colab.research.google.com/notebooks/data_table.ipynb>data table notebook</a>'\n",
              "            + ' to learn more about interactive tables.';\n",
              "          element.innerHTML = '';\n",
              "          dataTable['output_type'] = 'display_data';\n",
              "          await google.colab.output.renderOutput(dataTable, element);\n",
              "          const docLink = document.createElement('div');\n",
              "          docLink.innerHTML = docLinkHtml;\n",
              "          element.appendChild(docLink);\n",
              "        }\n",
              "      </script>\n",
              "    </div>\n",
              "  </div>\n",
              "  "
            ],
            "text/plain": [
              "                                              REVIEW  TAG\n",
              "0  The test plan covers possible test cases and a...    0\n",
              "1  Multiple diagrams visualizing and explaining t...    0\n",
              "2  The design is well thought of. They propose 2 ...    0\n",
              "3  The team has added details about UI testing. \\...    1\n",
              "4  The team has provided a usecase diagram which ...    1"
            ]
          },
          "metadata": {},
          "execution_count": 5
        }
      ]
    },
    {
      "cell_type": "code",
      "source": [
        "# Split the data to train data and test data\n",
        "X_train_tmp, X_test, y_train_tmp, y_test = model_selection.train_test_split(data['REVIEW'],data['TAG'], random_state = 0)\n",
        "X_train,X_val,y_train,y_val=model_selection.train_test_split(X_train_tmp,y_train_tmp, random_state = 0)"
      ],
      "metadata": {
        "id": "oozLhsz7CSRX"
      },
      "execution_count": null,
      "outputs": []
    },
    {
      "cell_type": "code",
      "source": [
        "# Create sequences of tokens uniform in length for all reviews\n",
        "tokenizer = text.Tokenizer(num_words=20000)\n",
        "tokenizer.fit_on_texts(list(X_train))\n",
        "X_train_tok = tokenizer.texts_to_sequences(X_train)\n",
        "X_train_tok_pad = sequence.pad_sequences(X_train_tok, maxlen=100)\n",
        "\n",
        "X_val_tok = tokenizer.texts_to_sequences(X_val)\n",
        "X_val_tok_pad = sequence.pad_sequences(X_val_tok, maxlen=100)\n",
        "\n",
        "X_test_tok = tokenizer.texts_to_sequences(X_test)\n",
        "X_test_tok_pad = sequence.pad_sequences(X_test_tok, maxlen=100)"
      ],
      "metadata": {
        "id": "MOlGsAX5CpO-"
      },
      "execution_count": null,
      "outputs": []
    },
    {
      "cell_type": "code",
      "source": [
        "embedding_size = 128\n",
        "model = tf.keras.models.Sequential()\n",
        "model.add(tf.keras.layers.Embedding(20000, embedding_size,input_shape=(100,)))\n",
        "model.add(tf.keras.layers.LSTM(25, return_sequences=True))\n",
        "model.add(tf.keras.layers.LSTM(25, return_sequences=True))\n",
        "model.add(tf.keras.layers.GlobalMaxPool1D())\n",
        "model.add(tf.keras.layers.Dropout(0.5))\n",
        "model.add(tf.keras.layers.Dense(50, activation='relu'))\n",
        "model.add(tf.keras.layers.Dropout(0.5))\n",
        "model.add(tf.keras.layers.Dense(50, activation='relu'))\n",
        "model.add(tf.keras.layers.Dropout(0.5))\n",
        "model.add(tf.keras.layers.Dense(1, activation='relu'))\n",
        "\n",
        "model.compile(loss='binary_crossentropy', optimizer='Adam', metrics=['accuracy'])\n",
        "model.summary()"
      ],
      "metadata": {
        "colab": {
          "base_uri": "https://localhost:8080/"
        },
        "id": "fNh0ZAWHCqtw",
        "outputId": "653ade59-3d4f-4b32-9d55-5cad9639afb5"
      },
      "execution_count": null,
      "outputs": [
        {
          "output_type": "stream",
          "name": "stdout",
          "text": [
            "Model: \"sequential\"\n",
            "_________________________________________________________________\n",
            " Layer (type)                Output Shape              Param #   \n",
            "=================================================================\n",
            " embedding (Embedding)       (None, 100, 128)          2560000   \n",
            "                                                                 \n",
            " lstm (LSTM)                 (None, 100, 25)           15400     \n",
            "                                                                 \n",
            " lstm_1 (LSTM)               (None, 100, 25)           5100      \n",
            "                                                                 \n",
            " global_max_pooling1d (Globa  (None, 25)               0         \n",
            " lMaxPooling1D)                                                  \n",
            "                                                                 \n",
            " dropout (Dropout)           (None, 25)                0         \n",
            "                                                                 \n",
            " dense (Dense)               (None, 50)                1300      \n",
            "                                                                 \n",
            " dropout_1 (Dropout)         (None, 50)                0         \n",
            "                                                                 \n",
            " dense_1 (Dense)             (None, 50)                2550      \n",
            "                                                                 \n",
            " dropout_2 (Dropout)         (None, 50)                0         \n",
            "                                                                 \n",
            " dense_2 (Dense)             (None, 1)                 51        \n",
            "                                                                 \n",
            "=================================================================\n",
            "Total params: 2,584,401\n",
            "Trainable params: 2,584,401\n",
            "Non-trainable params: 0\n",
            "_________________________________________________________________\n"
          ]
        }
      ]
    },
    {
      "cell_type": "code",
      "source": [
        "history = model.fit(X_train_tok_pad, y_train, epochs=50, batch_size=1024,validation_data=(X_val_tok_pad, y_val))"
      ],
      "metadata": {
        "colab": {
          "base_uri": "https://localhost:8080/"
        },
        "id": "4tVe8qtrCsba",
        "outputId": "e907fef1-0d3d-48a4-8ab2-59e4b9d24950"
      },
      "execution_count": null,
      "outputs": [
        {
          "output_type": "stream",
          "name": "stdout",
          "text": [
            "Epoch 1/50\n",
            "4/4 [==============================] - 13s 883ms/step - loss: 2.9026 - accuracy: 0.4074 - val_loss: 1.5291 - val_accuracy: 0.4074\n",
            "Epoch 2/50\n",
            "4/4 [==============================] - 0s 114ms/step - loss: 1.5034 - accuracy: 0.4074 - val_loss: 1.1801 - val_accuracy: 0.4074\n",
            "Epoch 3/50\n",
            "4/4 [==============================] - 0s 93ms/step - loss: 1.1719 - accuracy: 0.4102 - val_loss: 0.9367 - val_accuracy: 0.4074\n",
            "Epoch 4/50\n",
            "4/4 [==============================] - 0s 106ms/step - loss: 1.0232 - accuracy: 0.4342 - val_loss: 0.7820 - val_accuracy: 0.4074\n",
            "Epoch 5/50\n",
            "4/4 [==============================] - 0s 90ms/step - loss: 1.0527 - accuracy: 0.4750 - val_loss: 0.7428 - val_accuracy: 0.4074\n",
            "Epoch 6/50\n",
            "4/4 [==============================] - 0s 94ms/step - loss: 1.0045 - accuracy: 0.4708 - val_loss: 0.7509 - val_accuracy: 0.4074\n",
            "Epoch 7/50\n",
            "4/4 [==============================] - 0s 84ms/step - loss: 0.8865 - accuracy: 0.4508 - val_loss: 0.7622 - val_accuracy: 0.4074\n",
            "Epoch 8/50\n",
            "4/4 [==============================] - 0s 82ms/step - loss: 0.8411 - accuracy: 0.4705 - val_loss: 0.7512 - val_accuracy: 0.4074\n",
            "Epoch 9/50\n",
            "4/4 [==============================] - 0s 86ms/step - loss: 0.8208 - accuracy: 0.4886 - val_loss: 0.7231 - val_accuracy: 0.4074\n",
            "Epoch 10/50\n",
            "4/4 [==============================] - 0s 85ms/step - loss: 0.8128 - accuracy: 0.5106 - val_loss: 0.6743 - val_accuracy: 0.4269\n",
            "Epoch 11/50\n",
            "4/4 [==============================] - 0s 77ms/step - loss: 0.7899 - accuracy: 0.5503 - val_loss: 0.6251 - val_accuracy: 0.7287\n",
            "Epoch 12/50\n",
            "4/4 [==============================] - 0s 91ms/step - loss: 0.7847 - accuracy: 0.5675 - val_loss: 0.6143 - val_accuracy: 0.7464\n",
            "Epoch 13/50\n",
            "4/4 [==============================] - 0s 79ms/step - loss: 0.7122 - accuracy: 0.5932 - val_loss: 0.6335 - val_accuracy: 0.6095\n",
            "Epoch 14/50\n",
            "4/4 [==============================] - 0s 86ms/step - loss: 0.7316 - accuracy: 0.5771 - val_loss: 0.6249 - val_accuracy: 0.6374\n",
            "Epoch 15/50\n",
            "4/4 [==============================] - 0s 84ms/step - loss: 0.6893 - accuracy: 0.6123 - val_loss: 0.5881 - val_accuracy: 0.7591\n",
            "Epoch 16/50\n",
            "4/4 [==============================] - 0s 93ms/step - loss: 0.6581 - accuracy: 0.6346 - val_loss: 0.5356 - val_accuracy: 0.8174\n",
            "Epoch 17/50\n",
            "4/4 [==============================] - 0s 90ms/step - loss: 0.6712 - accuracy: 0.6817 - val_loss: 0.4814 - val_accuracy: 0.8309\n",
            "Epoch 18/50\n",
            "4/4 [==============================] - 0s 84ms/step - loss: 0.6457 - accuracy: 0.7074 - val_loss: 0.4306 - val_accuracy: 0.8309\n",
            "Epoch 19/50\n",
            "4/4 [==============================] - 0s 77ms/step - loss: 0.6347 - accuracy: 0.7508 - val_loss: 0.4163 - val_accuracy: 0.8318\n",
            "Epoch 20/50\n",
            "4/4 [==============================] - 0s 92ms/step - loss: 0.5863 - accuracy: 0.7652 - val_loss: 0.4139 - val_accuracy: 0.8411\n",
            "Epoch 21/50\n",
            "4/4 [==============================] - 0s 84ms/step - loss: 0.5424 - accuracy: 0.7821 - val_loss: 0.4154 - val_accuracy: 0.8436\n",
            "Epoch 22/50\n",
            "4/4 [==============================] - 0s 98ms/step - loss: 0.5041 - accuracy: 0.7933 - val_loss: 0.4253 - val_accuracy: 0.8276\n",
            "Epoch 23/50\n",
            "4/4 [==============================] - 0s 89ms/step - loss: 0.4620 - accuracy: 0.7925 - val_loss: 0.4434 - val_accuracy: 0.8047\n",
            "Epoch 24/50\n",
            "4/4 [==============================] - 0s 98ms/step - loss: 0.4881 - accuracy: 0.7900 - val_loss: 0.4303 - val_accuracy: 0.8233\n",
            "Epoch 25/50\n",
            "4/4 [==============================] - 0s 88ms/step - loss: 0.4311 - accuracy: 0.8221 - val_loss: 0.4221 - val_accuracy: 0.8470\n",
            "Epoch 26/50\n",
            "4/4 [==============================] - 0s 107ms/step - loss: 0.4207 - accuracy: 0.8480 - val_loss: 0.4941 - val_accuracy: 0.8521\n",
            "Epoch 27/50\n",
            "4/4 [==============================] - 0s 90ms/step - loss: 0.4498 - accuracy: 0.8734 - val_loss: 0.5744 - val_accuracy: 0.8571\n",
            "Epoch 28/50\n",
            "4/4 [==============================] - 0s 79ms/step - loss: 0.4186 - accuracy: 0.8666 - val_loss: 0.4262 - val_accuracy: 0.8233\n",
            "Epoch 29/50\n",
            "4/4 [==============================] - 0s 74ms/step - loss: 0.4299 - accuracy: 0.8125 - val_loss: 0.4927 - val_accuracy: 0.7675\n",
            "Epoch 30/50\n",
            "4/4 [==============================] - 0s 70ms/step - loss: 0.4670 - accuracy: 0.7688 - val_loss: 0.5082 - val_accuracy: 0.7439\n",
            "Epoch 31/50\n",
            "4/4 [==============================] - 0s 69ms/step - loss: 0.4783 - accuracy: 0.7652 - val_loss: 0.4978 - val_accuracy: 0.7608\n",
            "Epoch 32/50\n",
            "4/4 [==============================] - 0s 73ms/step - loss: 0.4545 - accuracy: 0.7860 - val_loss: 0.4531 - val_accuracy: 0.8005\n",
            "Epoch 33/50\n",
            "4/4 [==============================] - 0s 69ms/step - loss: 0.4206 - accuracy: 0.8148 - val_loss: 0.4676 - val_accuracy: 0.8242\n",
            "Epoch 34/50\n",
            "4/4 [==============================] - 0s 71ms/step - loss: 0.4061 - accuracy: 0.8351 - val_loss: 0.4891 - val_accuracy: 0.8343\n",
            "Epoch 35/50\n",
            "4/4 [==============================] - 0s 71ms/step - loss: 0.4417 - accuracy: 0.8472 - val_loss: 0.5191 - val_accuracy: 0.8352\n",
            "Epoch 36/50\n",
            "4/4 [==============================] - 0s 70ms/step - loss: 0.4022 - accuracy: 0.8621 - val_loss: 0.5409 - val_accuracy: 0.8360\n",
            "Epoch 37/50\n",
            "4/4 [==============================] - 0s 70ms/step - loss: 0.3971 - accuracy: 0.8683 - val_loss: 0.4831 - val_accuracy: 0.8377\n",
            "Epoch 38/50\n",
            "4/4 [==============================] - 0s 70ms/step - loss: 0.3779 - accuracy: 0.8579 - val_loss: 0.4917 - val_accuracy: 0.8335\n",
            "Epoch 39/50\n",
            "4/4 [==============================] - 0s 69ms/step - loss: 0.3728 - accuracy: 0.8531 - val_loss: 0.4947 - val_accuracy: 0.8335\n",
            "Epoch 40/50\n",
            "4/4 [==============================] - 0s 71ms/step - loss: 0.3449 - accuracy: 0.8641 - val_loss: 0.4900 - val_accuracy: 0.8343\n",
            "Epoch 41/50\n",
            "4/4 [==============================] - 0s 71ms/step - loss: 0.3741 - accuracy: 0.8613 - val_loss: 0.4927 - val_accuracy: 0.8343\n",
            "Epoch 42/50\n",
            "4/4 [==============================] - 0s 70ms/step - loss: 0.3527 - accuracy: 0.8740 - val_loss: 0.5089 - val_accuracy: 0.8385\n",
            "Epoch 43/50\n",
            "4/4 [==============================] - 0s 69ms/step - loss: 0.3418 - accuracy: 0.8765 - val_loss: 0.5335 - val_accuracy: 0.8385\n",
            "Epoch 44/50\n",
            "4/4 [==============================] - 0s 69ms/step - loss: 0.3119 - accuracy: 0.8900 - val_loss: 0.5518 - val_accuracy: 0.8445\n",
            "Epoch 45/50\n",
            "4/4 [==============================] - 0s 71ms/step - loss: 0.3467 - accuracy: 0.8957 - val_loss: 0.5546 - val_accuracy: 0.8470\n",
            "Epoch 46/50\n",
            "4/4 [==============================] - 0s 68ms/step - loss: 0.3427 - accuracy: 0.8906 - val_loss: 0.5748 - val_accuracy: 0.8487\n",
            "Epoch 47/50\n",
            "4/4 [==============================] - 0s 71ms/step - loss: 0.3037 - accuracy: 0.8977 - val_loss: 0.5723 - val_accuracy: 0.8478\n",
            "Epoch 48/50\n",
            "4/4 [==============================] - 0s 70ms/step - loss: 0.3087 - accuracy: 0.9025 - val_loss: 0.5709 - val_accuracy: 0.8487\n",
            "Epoch 49/50\n",
            "4/4 [==============================] - 0s 71ms/step - loss: 0.3019 - accuracy: 0.9039 - val_loss: 0.5685 - val_accuracy: 0.8512\n",
            "Epoch 50/50\n",
            "4/4 [==============================] - 0s 71ms/step - loss: 0.3060 - accuracy: 0.9041 - val_loss: 0.5775 - val_accuracy: 0.8504\n"
          ]
        }
      ]
    },
    {
      "cell_type": "code",
      "source": [
        "epoch_count = range(1, len(history.history['loss']) + 1)\n",
        "plt.plot(epoch_count, history.history['loss'], 'r--')\n",
        "plt.plot(epoch_count, history.history['val_loss'], 'b-')\n",
        "plt.legend(['Training Loss', 'Validation Loss'])\n",
        "plt.xlabel('Epoch')\n",
        "plt.ylabel('Loss')\n",
        "plt.show()"
      ],
      "metadata": {
        "colab": {
          "base_uri": "https://localhost:8080/",
          "height": 281
        },
        "id": "qkLOo3XbCuNr",
        "outputId": "c205a0d7-b511-4cd6-c414-aab9a53e6a1c"
      },
      "execution_count": null,
      "outputs": [
        {
          "output_type": "display_data",
          "data": {
            "image/png": "[encoded data removed]",
            "text/plain": [
              "<Figure size 432x288 with 1 Axes>"
            ]
          },
          "metadata": {
            "needs_background": "light"
          }
        }
      ]
    },
    {
      "cell_type": "code",
      "source": [
        "model.evaluate(X_test_tok_pad, y_test, batch_size=1024)"
      ],
      "metadata": {
        "colab": {
          "base_uri": "https://localhost:8080/"
        },
        "id": "UNIoXRrDC1Oo",
        "outputId": "dbad4c99-78b8-42c3-832a-77bd46b9c4f0"
      },
      "execution_count": null,
      "outputs": [
        {
          "output_type": "stream",
          "name": "stdout",
          "text": [
            "2/2 [==============================] - 0s 22ms/step - loss: 0.6611 - accuracy: 0.8542\n"
          ]
        },
        {
          "output_type": "execute_result",
          "data": {
            "text/plain": [
              "[0.6610614657402039, 0.8541534543037415]"
            ]
          },
          "metadata": {},
          "execution_count": 11
        }
      ]
    },
    {
      "cell_type": "code",
      "source": [
        "# Examine classification report\n",
        "from sklearn.metrics import classification_report\n",
        "#y_pred_classes = model.predict_classes(X_test_tok_pad, batch_size=2048)\n",
        "predict_y=model.predict(X_test_tok_pad, batch_size=2048)\n",
        "classes_y=np.argmax(predict_y,axis=-1)\n",
        "print(classification_report(y_test, classes_y))"
      ],
      "metadata": {
        "colab": {
          "base_uri": "https://localhost:8080/"
        },
        "id": "XzeeQ7iyC99k",
        "outputId": "6464a65f-f0db-4653-b995-f2cc24f8917d"
      },
      "execution_count": null,
      "outputs": [
        {
          "output_type": "stream",
          "name": "stdout",
          "text": [
            "              precision    recall  f1-score   support\n",
            "\n",
            "           0       0.39      1.00      0.56       613\n",
            "           1       0.00      0.00      0.00       964\n",
            "\n",
            "    accuracy                           0.39      1577\n",
            "   macro avg       0.19      0.50      0.28      1577\n",
            "weighted avg       0.15      0.39      0.22      1577\n",
            "\n"
          ]
        },
        {
          "output_type": "stream",
          "name": "stderr",
          "text": [
            "/usr/local/lib/python3.7/dist-packages/sklearn/metrics/_classification.py:1318: UndefinedMetricWarning: Precision and F-score are ill-defined and being set to 0.0 in labels with no predicted samples. Use `zero_division` parameter to control this behavior.\n",
            "  _warn_prf(average, modifier, msg_start, len(result))\n",
            "/usr/local/lib/python3.7/dist-packages/sklearn/metrics/_classification.py:1318: UndefinedMetricWarning: Precision and F-score are ill-defined and being set to 0.0 in labels with no predicted samples. Use `zero_division` parameter to control this behavior.\n",
            "  _warn_prf(average, modifier, msg_start, len(result))\n",
            "/usr/local/lib/python3.7/dist-packages/sklearn/metrics/_classification.py:1318: UndefinedMetricWarning: Precision and F-score are ill-defined and being set to 0.0 in labels with no predicted samples. Use `zero_division` parameter to control this behavior.\n",
            "  _warn_prf(average, modifier, msg_start, len(result))\n"
          ]
        }
      ]
    },
    {
      "cell_type": "code",
      "source": [
        ""
      ],
      "metadata": {
        "id": "UKOi25vRC_n0"
      },
      "execution_count": null,
      "outputs": []
    }
  ]
}