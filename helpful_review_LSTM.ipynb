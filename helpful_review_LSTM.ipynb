{
  "nbformat": 4,
  "nbformat_minor": 0,
  "metadata": {
    "colab": {
      "name": "helpful_review_LSTM.ipynb",
      "provenance": [],
      "collapsed_sections": []
    },
    "kernelspec": {
      "name": "python3",
      "display_name": "Python 3"
    },
    "language_info": {
      "name": "python"
    },
    "accelerator": "GPU"
  },
  "cells": [
    {
      "cell_type": "code",
      "execution_count": 1,
      "metadata": {
        "colab": {
          "base_uri": "https://localhost:8080/"
        },
        "id": "HXa1wylFaAxg",
        "outputId": "830a24d0-1d75-40a9-9b54-cdc01b389590"
      },
      "outputs": [
        {
          "output_type": "stream",
          "name": "stdout",
          "text": [
            "Drive already mounted at /content/drive; to attempt to forcibly remount, call drive.mount(\"/content/drive\", force_remount=True).\n"
          ]
        }
      ],
      "source": [
        "from google.colab import drive\n",
        "drive.mount(\"/content/drive\")"
      ]
    },
    {
      "cell_type": "code",
      "source": [
        "from keras.preprocessing.sequence import pad_sequences\n",
        "from keras.layers import Input, Dense, LSTM, Embedding\n",
        "from keras.layers import Dropout, Activation, Bidirectional, GlobalMaxPool1D\n",
        "from keras.models import Sequential\n",
        "from keras import initializers, regularizers, constraints, optimizers, layers\n",
        "from keras import callbacks\n",
        "from keras.preprocessing import text, sequence\n",
        "import tensorflow as tf"
      ],
      "metadata": {
        "id": "hyh5vlFeaSE4"
      },
      "execution_count": 2,
      "outputs": []
    },
    {
      "cell_type": "code",
      "source": [
        "import pandas as pd\n",
        "import numpy as np\n",
        "import seaborn as sns\n",
        "import matplotlib.pyplot as plt\n",
        "from sklearn import model_selection"
      ],
      "metadata": {
        "id": "Hi5Mzoqzb7eg"
      },
      "execution_count": 3,
      "outputs": []
    },
    {
      "cell_type": "code",
      "source": [
        "data=pd.read_csv(\"/content/drive/My Drive/GEARS2022/code/helpful_data_multisemester_balanced.csv\")\n",
        "# Split the data to train data and test data\n",
        "X_train_tmp, X_test, y_train_tmp, y_test = model_selection.train_test_split(data['REVIEW'],data['TAG'], random_state = 0)\n",
        "X_train,X_val,y_train,y_val=model_selection.train_test_split(X_train_tmp,y_train_tmp, random_state = 0)"
      ],
      "metadata": {
        "id": "MDsAySyXqSCz"
      },
      "execution_count": 4,
      "outputs": []
    },
    {
      "cell_type": "code",
      "source": [
        "# Create sequences of tokens uniform in length for all reviews\n",
        "tokenizer = text.Tokenizer(num_words=20000)\n",
        "tokenizer.fit_on_texts(list(X_train))\n",
        "X_train_tok = tokenizer.texts_to_sequences(X_train)\n",
        "X_train_tok_pad = sequence.pad_sequences(X_train_tok, maxlen=100)\n",
        "\n",
        "X_val_tok = tokenizer.texts_to_sequences(X_val)\n",
        "X_val_tok_pad = sequence.pad_sequences(X_val_tok, maxlen=100)\n",
        "\n",
        "X_test_tok = tokenizer.texts_to_sequences(X_test)\n",
        "X_test_tok_pad = sequence.pad_sequences(X_test_tok, maxlen=100)"
      ],
      "metadata": {
        "id": "8ohclSObrgok"
      },
      "execution_count": 5,
      "outputs": []
    },
    {
      "cell_type": "code",
      "source": [
        "embedding_size = 128\n",
        "model = tf.keras.models.Sequential()\n",
        "model.add(tf.keras.layers.Embedding(20000, embedding_size, input_shape=(100,)))\n",
        "model.add(tf.keras.layers.LSTM(25, return_sequences=True))\n",
        "model.add(tf.keras.layers.LSTM(25, return_sequences=True))\n",
        "model.add(tf.keras.layers.GlobalMaxPool1D())\n",
        "model.add(tf.keras.layers.Dropout(0.5))\n",
        "model.add(tf.keras.layers.Dense(50, activation='relu'))\n",
        "model.add(tf.keras.layers.Dropout(0.5))\n",
        "model.add(tf.keras.layers.Dense(50, activation='relu'))\n",
        "model.add(tf.keras.layers.Dropout(0.5))\n",
        "model.add(tf.keras.layers.Dense(1, activation='relu'))\n",
        "\n",
        "model.compile(loss='binary_crossentropy', optimizer='Adam', metrics=['accuracy'])\n",
        "model.summary()"
      ],
      "metadata": {
        "colab": {
          "base_uri": "https://localhost:8080/"
        },
        "id": "26KQbWfFrpTx",
        "outputId": "8c085013-2d53-4f7d-f61d-6cd5750625fa"
      },
      "execution_count": 6,
      "outputs": [
        {
          "output_type": "stream",
          "name": "stdout",
          "text": [
            "Model: \"sequential\"\n",
            "_________________________________________________________________\n",
            " Layer (type)                Output Shape              Param #   \n",
            "=================================================================\n",
            " embedding (Embedding)       (None, 100, 128)          2560000   \n",
            "                                                                 \n",
            " lstm (LSTM)                 (None, 100, 25)           15400     \n",
            "                                                                 \n",
            " lstm_1 (LSTM)               (None, 100, 25)           5100      \n",
            "                                                                 \n",
            " global_max_pooling1d (Globa  (None, 25)               0         \n",
            " lMaxPooling1D)                                                  \n",
            "                                                                 \n",
            " dropout (Dropout)           (None, 25)                0         \n",
            "                                                                 \n",
            " dense (Dense)               (None, 50)                1300      \n",
            "                                                                 \n",
            " dropout_1 (Dropout)         (None, 50)                0         \n",
            "                                                                 \n",
            " dense_1 (Dense)             (None, 50)                2550      \n",
            "                                                                 \n",
            " dropout_2 (Dropout)         (None, 50)                0         \n",
            "                                                                 \n",
            " dense_2 (Dense)             (None, 1)                 51        \n",
            "                                                                 \n",
            "=================================================================\n",
            "Total params: 2,584,401\n",
            "Trainable params: 2,584,401\n",
            "Non-trainable params: 0\n",
            "_________________________________________________________________\n"
          ]
        }
      ]
    },
    {
      "cell_type": "code",
      "source": [
        "history = model.fit(X_train_tok_pad, y_train, epochs=50, batch_size=1024,validation_data=(X_val_tok_pad, y_val))"
      ],
      "metadata": {
        "colab": {
          "base_uri": "https://localhost:8080/"
        },
        "id": "TW4YlU39sALk",
        "outputId": "bf27590b-cb8f-4487-e3ca-ee85adef3bad"
      },
      "execution_count": 7,
      "outputs": [
        {
          "output_type": "stream",
          "name": "stdout",
          "text": [
            "Epoch 1/50\n",
            "3/3 [==============================] - 13s 2s/step - loss: 2.7561 - accuracy: 0.4978 - val_loss: 1.3725 - val_accuracy: 0.5221\n",
            "Epoch 2/50\n",
            "3/3 [==============================] - 0s 90ms/step - loss: 1.4794 - accuracy: 0.4978 - val_loss: 1.0789 - val_accuracy: 0.5221\n",
            "Epoch 3/50\n",
            "3/3 [==============================] - 0s 96ms/step - loss: 1.1536 - accuracy: 0.4982 - val_loss: 0.8896 - val_accuracy: 0.5221\n",
            "Epoch 4/50\n",
            "3/3 [==============================] - 0s 96ms/step - loss: 0.9608 - accuracy: 0.4933 - val_loss: 0.7731 - val_accuracy: 0.5221\n",
            "Epoch 5/50\n",
            "3/3 [==============================] - 0s 104ms/step - loss: 0.9968 - accuracy: 0.4946 - val_loss: 0.7292 - val_accuracy: 0.5221\n",
            "Epoch 6/50\n",
            "3/3 [==============================] - 0s 104ms/step - loss: 1.0337 - accuracy: 0.4915 - val_loss: 0.7270 - val_accuracy: 0.5221\n",
            "Epoch 7/50\n",
            "3/3 [==============================] - 0s 127ms/step - loss: 0.9061 - accuracy: 0.4906 - val_loss: 0.7528 - val_accuracy: 0.5221\n",
            "Epoch 8/50\n",
            "3/3 [==============================] - 0s 104ms/step - loss: 0.8623 - accuracy: 0.4924 - val_loss: 0.7888 - val_accuracy: 0.5221\n",
            "Epoch 9/50\n",
            "3/3 [==============================] - 0s 107ms/step - loss: 0.8416 - accuracy: 0.4794 - val_loss: 0.8096 - val_accuracy: 0.5221\n",
            "Epoch 10/50\n",
            "3/3 [==============================] - 0s 90ms/step - loss: 0.8335 - accuracy: 0.5063 - val_loss: 0.8127 - val_accuracy: 0.5221\n",
            "Epoch 11/50\n",
            "3/3 [==============================] - 0s 100ms/step - loss: 0.8344 - accuracy: 0.4955 - val_loss: 0.8020 - val_accuracy: 0.5221\n",
            "Epoch 12/50\n",
            "3/3 [==============================] - 0s 104ms/step - loss: 0.8277 - accuracy: 0.4991 - val_loss: 0.7823 - val_accuracy: 0.5221\n",
            "Epoch 13/50\n",
            "3/3 [==============================] - 0s 89ms/step - loss: 0.8071 - accuracy: 0.5045 - val_loss: 0.7576 - val_accuracy: 0.5221\n",
            "Epoch 14/50\n",
            "3/3 [==============================] - 0s 117ms/step - loss: 0.7997 - accuracy: 0.4942 - val_loss: 0.7334 - val_accuracy: 0.5221\n",
            "Epoch 15/50\n",
            "3/3 [==============================] - 0s 114ms/step - loss: 0.7838 - accuracy: 0.5152 - val_loss: 0.7145 - val_accuracy: 0.5221\n",
            "Epoch 16/50\n",
            "3/3 [==============================] - 0s 95ms/step - loss: 0.7740 - accuracy: 0.5184 - val_loss: 0.7014 - val_accuracy: 0.5221\n",
            "Epoch 17/50\n",
            "3/3 [==============================] - 0s 125ms/step - loss: 0.7877 - accuracy: 0.5188 - val_loss: 0.6938 - val_accuracy: 0.5221\n",
            "Epoch 18/50\n",
            "3/3 [==============================] - 0s 101ms/step - loss: 0.7989 - accuracy: 0.5242 - val_loss: 0.6905 - val_accuracy: 0.5221\n",
            "Epoch 19/50\n",
            "3/3 [==============================] - 0s 121ms/step - loss: 0.7810 - accuracy: 0.5202 - val_loss: 0.6916 - val_accuracy: 0.5221\n",
            "Epoch 20/50\n",
            "3/3 [==============================] - 0s 85ms/step - loss: 0.7739 - accuracy: 0.5287 - val_loss: 0.6913 - val_accuracy: 0.5221\n",
            "Epoch 21/50\n",
            "3/3 [==============================] - 0s 120ms/step - loss: 0.7707 - accuracy: 0.5314 - val_loss: 0.6869 - val_accuracy: 0.5221\n",
            "Epoch 22/50\n",
            "3/3 [==============================] - 0s 103ms/step - loss: 0.7342 - accuracy: 0.5457 - val_loss: 0.6793 - val_accuracy: 0.5221\n",
            "Epoch 23/50\n",
            "3/3 [==============================] - 0s 112ms/step - loss: 0.7198 - accuracy: 0.5470 - val_loss: 0.6690 - val_accuracy: 0.5221\n",
            "Epoch 24/50\n",
            "3/3 [==============================] - 0s 88ms/step - loss: 0.6977 - accuracy: 0.5775 - val_loss: 0.6538 - val_accuracy: 0.5248\n",
            "Epoch 25/50\n",
            "3/3 [==============================] - 0s 93ms/step - loss: 0.7186 - accuracy: 0.5905 - val_loss: 0.6459 - val_accuracy: 0.5409\n",
            "Epoch 26/50\n",
            "3/3 [==============================] - 0s 90ms/step - loss: 0.6775 - accuracy: 0.6026 - val_loss: 0.6386 - val_accuracy: 0.5772\n",
            "Epoch 27/50\n",
            "3/3 [==============================] - 0s 88ms/step - loss: 0.6871 - accuracy: 0.6098 - val_loss: 0.6294 - val_accuracy: 0.6282\n",
            "Epoch 28/50\n",
            "3/3 [==============================] - 0s 105ms/step - loss: 0.6774 - accuracy: 0.6223 - val_loss: 0.6193 - val_accuracy: 0.6604\n",
            "Epoch 29/50\n",
            "3/3 [==============================] - 0s 114ms/step - loss: 0.6799 - accuracy: 0.6483 - val_loss: 0.6081 - val_accuracy: 0.6859\n",
            "Epoch 30/50\n",
            "3/3 [==============================] - 0s 122ms/step - loss: 0.6920 - accuracy: 0.6402 - val_loss: 0.5977 - val_accuracy: 0.7087\n",
            "Epoch 31/50\n",
            "3/3 [==============================] - 0s 114ms/step - loss: 0.6184 - accuracy: 0.6788 - val_loss: 0.5929 - val_accuracy: 0.7074\n",
            "Epoch 32/50\n",
            "3/3 [==============================] - 0s 87ms/step - loss: 0.6037 - accuracy: 0.6985 - val_loss: 0.5923 - val_accuracy: 0.7007\n",
            "Epoch 33/50\n",
            "3/3 [==============================] - 0s 85ms/step - loss: 0.6252 - accuracy: 0.6855 - val_loss: 0.5730 - val_accuracy: 0.7181\n",
            "Epoch 34/50\n",
            "3/3 [==============================] - 0s 108ms/step - loss: 0.5833 - accuracy: 0.7209 - val_loss: 0.6110 - val_accuracy: 0.6604\n",
            "Epoch 35/50\n",
            "3/3 [==============================] - 0s 114ms/step - loss: 0.5839 - accuracy: 0.6989 - val_loss: 0.6177 - val_accuracy: 0.6483\n",
            "Epoch 36/50\n",
            "3/3 [==============================] - 0s 90ms/step - loss: 0.5914 - accuracy: 0.6967 - val_loss: 0.5946 - val_accuracy: 0.6913\n",
            "Epoch 37/50\n",
            "3/3 [==============================] - 0s 101ms/step - loss: 0.5671 - accuracy: 0.7173 - val_loss: 0.5858 - val_accuracy: 0.7275\n",
            "Epoch 38/50\n",
            "3/3 [==============================] - 0s 88ms/step - loss: 0.5589 - accuracy: 0.7581 - val_loss: 0.6129 - val_accuracy: 0.7141\n",
            "Epoch 39/50\n",
            "3/3 [==============================] - 0s 100ms/step - loss: 0.5956 - accuracy: 0.7720 - val_loss: 0.6801 - val_accuracy: 0.7074\n",
            "Epoch 40/50\n",
            "3/3 [==============================] - 0s 127ms/step - loss: 0.6846 - accuracy: 0.7702 - val_loss: 0.6763 - val_accuracy: 0.7168\n",
            "Epoch 41/50\n",
            "3/3 [==============================] - 0s 85ms/step - loss: 0.5580 - accuracy: 0.7746 - val_loss: 0.6462 - val_accuracy: 0.7275\n",
            "Epoch 42/50\n",
            "3/3 [==============================] - 0s 82ms/step - loss: 0.5161 - accuracy: 0.7926 - val_loss: 0.6339 - val_accuracy: 0.7208\n",
            "Epoch 43/50\n",
            "3/3 [==============================] - 0s 84ms/step - loss: 0.5233 - accuracy: 0.7800 - val_loss: 0.6398 - val_accuracy: 0.7087\n",
            "Epoch 44/50\n",
            "3/3 [==============================] - 0s 102ms/step - loss: 0.4988 - accuracy: 0.8024 - val_loss: 0.7640 - val_accuracy: 0.7248\n",
            "Epoch 45/50\n",
            "3/3 [==============================] - 0s 99ms/step - loss: 0.4472 - accuracy: 0.8141 - val_loss: 0.9830 - val_accuracy: 0.7154\n",
            "Epoch 46/50\n",
            "3/3 [==============================] - 0s 81ms/step - loss: 0.4888 - accuracy: 0.8248 - val_loss: 0.8015 - val_accuracy: 0.6966\n",
            "Epoch 47/50\n",
            "3/3 [==============================] - 0s 73ms/step - loss: 0.4591 - accuracy: 0.8172 - val_loss: 0.6884 - val_accuracy: 0.6846\n",
            "Epoch 48/50\n",
            "3/3 [==============================] - 0s 72ms/step - loss: 0.4693 - accuracy: 0.7917 - val_loss: 0.7282 - val_accuracy: 0.6846\n",
            "Epoch 49/50\n",
            "3/3 [==============================] - 0s 71ms/step - loss: 0.4594 - accuracy: 0.8042 - val_loss: 0.8934 - val_accuracy: 0.6819\n",
            "Epoch 50/50\n",
            "3/3 [==============================] - 0s 69ms/step - loss: 0.4708 - accuracy: 0.8154 - val_loss: 0.9658 - val_accuracy: 0.6872\n"
          ]
        }
      ]
    },
    {
      "cell_type": "code",
      "source": [
        "epoch_count = range(1, len(history.history['loss']) + 1)\n",
        "plt.plot(epoch_count, history.history['loss'], 'r--')\n",
        "plt.plot(epoch_count, history.history['val_loss'], 'b-')\n",
        "plt.legend(['Training Loss', 'Validation Loss'])\n",
        "plt.xlabel('Epoch')\n",
        "plt.ylabel('Loss')\n",
        "plt.show()"
      ],
      "metadata": {
        "colab": {
          "base_uri": "https://localhost:8080/",
          "height": 279
        },
        "id": "Wf0R04-MzTHX",
        "outputId": "290aaf2d-8e73-433c-a0c3-313e5c1948dd"
      },
      "execution_count": 8,
      "outputs": [
        {
          "output_type": "display_data",
          "data": {
            "image/png": "[encoded data removed]",
            "text/plain": [
              "<Figure size 432x288 with 1 Axes>"
            ]
          },
          "metadata": {
            "needs_background": "light"
          }
        }
      ]
    },
    {
      "cell_type": "code",
      "source": [
        "model.evaluate(X_test_tok_pad, y_test, batch_size=1024)"
      ],
      "metadata": {
        "colab": {
          "base_uri": "https://localhost:8080/"
        },
        "id": "Iyi3sjgKtVSU",
        "outputId": "182d3d2b-fa2e-448d-c1a9-218ee2c35ee8"
      },
      "execution_count": 9,
      "outputs": [
        {
          "output_type": "stream",
          "name": "stdout",
          "text": [
            "1/1 [==============================] - 0s 48ms/step - loss: 0.9543 - accuracy: 0.6999\n"
          ]
        },
        {
          "output_type": "execute_result",
          "data": {
            "text/plain": [
              "[0.954259991645813, 0.6998993158340454]"
            ]
          },
          "metadata": {},
          "execution_count": 9
        }
      ]
    },
    {
      "cell_type": "code",
      "source": [
        "# Examine classification report\n",
        "from sklearn.metrics import classification_report\n",
        "#y_pred_classes = model.predict_classes(X_test_tok_pad, batch_size=2048)\n",
        "predict_y=model.predict(X_test_tok_pad, batch_size=2048)\n",
        "classes_y=np.argmax(predict_y,axis=-1)\n",
        "print(classification_report(y_test, classes_y))"
      ],
      "metadata": {
        "colab": {
          "base_uri": "https://localhost:8080/"
        },
        "id": "OIpxDaHZ1uU6",
        "outputId": "f28a0671-1833-4e18-aa80-77f622dd3ef7"
      },
      "execution_count": 10,
      "outputs": [
        {
          "output_type": "stream",
          "name": "stdout",
          "text": [
            "              precision    recall  f1-score   support\n",
            "\n",
            "           0       0.49      1.00      0.66       485\n",
            "           1       0.00      0.00      0.00       508\n",
            "\n",
            "    accuracy                           0.49       993\n",
            "   macro avg       0.24      0.50      0.33       993\n",
            "weighted avg       0.24      0.49      0.32       993\n",
            "\n"
          ]
        },
        {
          "output_type": "stream",
          "name": "stderr",
          "text": [
            "/usr/local/lib/python3.7/dist-packages/sklearn/metrics/_classification.py:1318: UndefinedMetricWarning: Precision and F-score are ill-defined and being set to 0.0 in labels with no predicted samples. Use `zero_division` parameter to control this behavior.\n",
            "  _warn_prf(average, modifier, msg_start, len(result))\n",
            "/usr/local/lib/python3.7/dist-packages/sklearn/metrics/_classification.py:1318: UndefinedMetricWarning: Precision and F-score are ill-defined and being set to 0.0 in labels with no predicted samples. Use `zero_division` parameter to control this behavior.\n",
            "  _warn_prf(average, modifier, msg_start, len(result))\n",
            "/usr/local/lib/python3.7/dist-packages/sklearn/metrics/_classification.py:1318: UndefinedMetricWarning: Precision and F-score are ill-defined and being set to 0.0 in labels with no predicted samples. Use `zero_division` parameter to control this behavior.\n",
            "  _warn_prf(average, modifier, msg_start, len(result))\n"
          ]
        }
      ]
    },
    {
      "cell_type": "code",
      "source": [
        ""
      ],
      "metadata": {
        "id": "keF-2GRi5ry-"
      },
      "execution_count": 10,
      "outputs": []
    }
  ]
}